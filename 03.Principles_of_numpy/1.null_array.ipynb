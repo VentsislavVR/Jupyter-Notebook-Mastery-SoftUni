{
 "cells": [
  {
   "cell_type": "code",
   "execution_count": 11,
   "id": "4fe134fbaac1f49a",
   "metadata": {
    "ExecuteTime": {
     "end_time": "2024-01-11T12:14:13.135975200Z",
     "start_time": "2024-01-11T12:14:13.126467Z"
    }
   },
   "outputs": [],
   "source": [
    "import numpy as np"
   ]
  },
  {
   "cell_type": "code",
   "execution_count": 12,
   "id": "ee8c295b-3701-418a-83c0-e7133f649e0c",
   "metadata": {
    "ExecuteTime": {
     "end_time": "2024-01-11T12:14:15.144778800Z",
     "start_time": "2024-01-11T12:14:13.135975200Z"
    }
   },
   "outputs": [],
   "source": [
    "n = int(input())"
   ]
  },
  {
   "cell_type": "code",
   "outputs": [
    {
     "name": "stdout",
     "output_type": "stream",
     "text": [
      "[0 0 0 0 0]\n"
     ]
    }
   ],
   "source": [
    "null_array = np.zeros(n, dtype=int)\n",
    "print(null_array)"
   ],
   "metadata": {
    "collapsed": false,
    "ExecuteTime": {
     "end_time": "2024-01-11T12:14:15.145777600Z",
     "start_time": "2024-01-11T12:14:15.102121Z"
    }
   },
   "id": "3bc6606c0ca7249a",
   "execution_count": 13
  },
  {
   "cell_type": "code",
   "outputs": [
    {
     "name": "stdout",
     "output_type": "stream",
     "text": [
      "[5]\n"
     ]
    }
   ],
   "source": [
    "start_number = int(input())\n",
    "end_number = int(input())\n",
    "\n",
    "consecutive_array = np.arange(start_number, end_number + 1)\n",
    "\n",
    "print(consecutive_array)"
   ],
   "metadata": {
    "collapsed": false,
    "ExecuteTime": {
     "end_time": "2024-01-11T12:14:18.073378700Z",
     "start_time": "2024-01-11T12:14:15.122848900Z"
    }
   },
   "id": "5300eb99a6a38a0d",
   "execution_count": 14
  },
  {
   "cell_type": "code",
   "outputs": [
    {
     "name": "stdout",
     "output_type": "stream",
     "text": [
      "[[1 0 0 0 0]\n",
      " [0 1 0 0 0]\n",
      " [0 0 1 0 0]\n",
      " [0 0 0 1 0]\n",
      " [0 0 0 0 1]]\n"
     ]
    }
   ],
   "source": [
    "\n",
    "N = int(input())\n",
    "identity_matrix = np.identity(N, dtype=int)\n",
    "print(identity_matrix)"
   ],
   "metadata": {
    "collapsed": false,
    "ExecuteTime": {
     "end_time": "2024-01-11T12:14:20.894576600Z",
     "start_time": "2024-01-11T12:14:18.064085100Z"
    }
   },
   "id": "13084fe72b2f244c",
   "execution_count": 15
  },
  {
   "cell_type": "code",
   "outputs": [
    {
     "name": "stdout",
     "output_type": "stream",
     "text": [
      "[5. 5. 5. 5. 5.]\n"
     ]
    }
   ],
   "source": [
    "start = float(input())\n",
    "stop = float(input())\n",
    "N = int(input())\n",
    "\n",
    "result_array = np.linspace(start, stop, N)\n",
    "print(result_array)"
   ],
   "metadata": {
    "collapsed": false,
    "ExecuteTime": {
     "end_time": "2024-01-11T12:14:26.795351200Z",
     "start_time": "2024-01-11T12:14:20.854059600Z"
    }
   },
   "id": "be8cc71d462f2f1f",
   "execution_count": 16
  }
 ],
 "metadata": {
  "kernelspec": {
   "display_name": "Python 3 (ipykernel)",
   "language": "python",
   "name": "python3"
  },
  "language_info": {
   "codemirror_mode": {
    "name": "ipython",
    "version": 3
   },
   "file_extension": ".py",
   "mimetype": "text/x-python",
   "name": "python",
   "nbconvert_exporter": "python",
   "pygments_lexer": "ipython3",
   "version": "3.11.6"
  }
 },
 "nbformat": 4,
 "nbformat_minor": 5
}
