{
 "cells": [
  {
   "cell_type": "code",
   "execution_count": 2,
   "id": "initial_id",
   "metadata": {
    "collapsed": true,
    "ExecuteTime": {
     "end_time": "2024-01-11T12:17:13.785311200Z",
     "start_time": "2024-01-11T12:17:10.911723200Z"
    }
   },
   "outputs": [
    {
     "name": "stdout",
     "output_type": "stream",
     "text": [
      "0    5\n",
      "1    6\n",
      "dtype: int64\n"
     ]
    }
   ],
   "source": [
    "import pandas as pd\n",
    "\n",
    "\n",
    "N = int(input())\n",
    "\n",
    "\n",
    "numbers = [int(input()) for _ in range(N)]\n",
    "\n",
    "\n",
    "series = pd.Series(numbers)\n",
    "\n",
    "\n",
    "print(series)"
   ]
  },
  {
   "cell_type": "code",
   "outputs": [],
   "source": [
    "\n",
    "N = int(input())\n",
    "\n",
    "\n",
    "numbers = [int(input()) for _ in range(N)]\n",
    "\n",
    "\n",
    "series = pd.Series(numbers)\n",
    "\n",
    "\n",
    "series *= 2\n",
    "\n",
    "\n",
    "print(series)"
   ],
   "metadata": {
    "collapsed": false
   },
   "id": "d3186bd2331c3160"
  },
  {
   "cell_type": "code",
   "outputs": [
    {
     "name": "stdout",
     "output_type": "stream",
     "text": [
      "0    False\n",
      "1    False\n",
      "2    False\n",
      "3     True\n",
      "4    False\n",
      "dtype: bool\n"
     ]
    }
   ],
   "source": [
    "import pandas as pd\n",
    "\n",
    "N = int(input())\n",
    "\n",
    "\n",
    "numbers = [int(input()) for _ in range(N)]\n",
    "\n",
    "\n",
    "series = pd.Series(numbers)\n",
    "\n",
    "\n",
    "\n",
    "print(series.duplicated())"
   ],
   "metadata": {
    "collapsed": false,
    "ExecuteTime": {
     "end_time": "2024-01-11T12:20:05.289943300Z",
     "start_time": "2024-01-11T12:19:53.743831500Z"
    }
   },
   "id": "503c6d9f1ffaa6da",
   "execution_count": 3
  },
  {
   "cell_type": "code",
   "outputs": [
    {
     "name": "stdout",
     "output_type": "stream",
     "text": [
      "0    1\n",
      "dtype: int64\n"
     ]
    }
   ],
   "source": [
    "import pandas as pd\n",
    "N = int(input())\n",
    "\n",
    "\n",
    "numbers = [int(input()) for _ in range(N)]\n",
    "\n",
    "\n",
    "series = pd.Series(numbers)\n",
    "\n",
    "print(series.drop_duplicates())\n",
    "\n"
   ],
   "metadata": {
    "collapsed": false,
    "ExecuteTime": {
     "end_time": "2024-01-11T12:21:38.325065500Z",
     "start_time": "2024-01-11T12:21:35.729585400Z"
    }
   },
   "id": "d60ffea9a218df4c",
   "execution_count": 5
  }
 ],
 "metadata": {
  "kernelspec": {
   "display_name": "Python 3",
   "language": "python",
   "name": "python3"
  },
  "language_info": {
   "codemirror_mode": {
    "name": "ipython",
    "version": 2
   },
   "file_extension": ".py",
   "mimetype": "text/x-python",
   "name": "python",
   "nbconvert_exporter": "python",
   "pygments_lexer": "ipython2",
   "version": "2.7.6"
  }
 },
 "nbformat": 4,
 "nbformat_minor": 5
}
