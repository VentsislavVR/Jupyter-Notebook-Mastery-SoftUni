{
 "cells": [
  {
   "cell_type": "code",
   "execution_count": null,
   "id": "f6adde71-f5b9-479f-b3e3-742102aab90a",
   "metadata": {},
   "outputs": [],
   "source": []
  },
  {
   "cell_type": "code",
   "execution_count": null,
   "id": "e7f592cc-887b-4492-bba5-848c0244e93b",
   "metadata": {},
   "outputs": [],
   "source": []
  },
  {
   "cell_type": "markdown",
   "id": "678624e8-2748-4b6d-bbcb-51cd5238aef6",
   "metadata": {},
   "source": [
    "This is some tex.\n"
   ]
  },
  {
   "cell_type": "markdown",
   "id": "63cd2f9e-f73b-4c51-96a7-47c1405ef168",
   "metadata": {},
   "source": []
  }
 ],
 "metadata": {
  "kernelspec": {
   "display_name": "Python 3 (ipykernel)",
   "language": "python",
   "name": "python3"
  },
  "language_info": {
   "codemirror_mode": {
    "name": "ipython",
    "version": 3
   },
   "file_extension": ".py",
   "mimetype": "text/x-python",
   "name": "python",
   "nbconvert_exporter": "python",
   "pygments_lexer": "ipython3",
   "version": "3.11.6"
  }
 },
 "nbformat": 4,
 "nbformat_minor": 5
}
